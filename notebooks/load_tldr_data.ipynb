{
 "cells": [
  {
   "cell_type": "code",
   "execution_count": 95,
   "metadata": {},
   "outputs": [],
   "source": [
    "import datasets # hugging face datasets\n",
    "import requests\n",
    "import pandas as pd\n",
    "from pathlib import Path\n",
    "import os\n"
   ]
  },
  {
   "cell_type": "code",
   "execution_count": 99,
   "metadata": {},
   "outputs": [
    {
     "data": {
      "text/plain": [
       "PosixPath('/Users/toby/Dev/maet-pln/data/processed')"
      ]
     },
     "execution_count": 99,
     "metadata": {},
     "output_type": "execute_result"
    }
   ],
   "source": [
    "# set paths\n",
    "\n",
    "root = Path(os.getcwd()).parent\n",
    "data = root / 'data'\n",
    "processed = data / 'processed'\n"
   ]
  },
  {
   "cell_type": "code",
   "execution_count": 105,
   "metadata": {},
   "outputs": [
    {
     "data": {
      "text/plain": [
       "['acronym_identification',\n",
       " 'ade_corpus_v2',\n",
       " 'UCLNLP/adversarial_qa',\n",
       " 'aeslc',\n",
       " 'afrikaans_ner_corpus']"
      ]
     },
     "execution_count": 105,
     "metadata": {},
     "output_type": "execute_result"
    }
   ],
   "source": [
    "datasets_list = datasets.list_datasets() # deprecation warning\n",
    "datasets_list[:5]"
   ]
  },
  {
   "cell_type": "code",
   "execution_count": 13,
   "metadata": {},
   "outputs": [],
   "source": [
    "# Throws an error - ignore for now as the API works fine\n",
    "try: \n",
    "    dataset = datasets.load_dataset(\"openai/summarize_from_feedback\", 'comparisons')\n",
    "except FileNotFoundError:\n",
    "    pass\n",
    "\n"
   ]
  },
  {
   "cell_type": "code",
   "execution_count": 104,
   "metadata": {},
   "outputs": [
    {
     "name": "stdout",
     "output_type": "stream",
     "text": [
      "20\n"
     ]
    }
   ],
   "source": [
    "# Get (100 obs of) tldr data from the API\n",
    "n_obs = 20\n",
    "tldr_url = \"https://datasets-server.huggingface.co/\" + \\\n",
    "           f\"rows?dataset=openai%2Fsummarize_from_feedback&config=axis&split=validation&offset=0&length={n_obs}\"\n",
    "\n",
    "r = requests.get(tldr_url)\n",
    "assert r.ok\n",
    "\n",
    "tldr_dict = r.json()\n",
    "\n",
    "print(len(tldr_dict['rows']))"
   ]
  },
  {
   "cell_type": "code",
   "execution_count": 101,
   "metadata": {},
   "outputs": [
    {
     "data": {
      "text/plain": [
       "{'row_idx': 0,\n",
       " 'row': {'info': {'id': 't3_4l0bal',\n",
       "   'post': \"Recently, my fiance  (20 m) and I (19f) moved into a new apartment with a mutual friend (20m) and somehow contracted scabies (don't know how). We've both been itchy af and have been to the doctor who confirmed that it was scabies for the both of us. Our room mate (20m) has not had symptoms of scabies bites appear yet but I have asked him to get treated as well and to treat his clothes and linen so that our apartment does not get reinfested after treatment.\\n\\nMy room mate refuses to buy the lotion needed to kill the mites on his skin (if there are any on him) and refuses to rewash and dry his linen and clothes. I'm scared that if he does not get treated the infestation of our apartment will not go away. I'm almost there to asking him to move out if he refuses treatment . He is not on the lease.\",\n",
       "   'title': '19f with fiance 20m and roommate 19m- fiance and I recently got infected with scabies and have started treatment, roommate refuses',\n",
       "   'subreddit': 'relationship_advice',\n",
       "   'site': None,\n",
       "   'article': None},\n",
       "  'summary': {'text': \" Fiance and I recently got infected with scabies. Room mate refuses to get treated and our apartment will not go away. I'm afraid he will leave if he doesn't. Should I ask him to leave?\",\n",
       "   'policy': 'sup4_ppo_rm4_t.7',\n",
       "   'note': \"'our apartment will not go away. I'm afraid he will leave if he doesn't' doesn't make sense\",\n",
       "   'axes': {'overall': 5,\n",
       "    'accuracy': 5,\n",
       "    'coverage': 6,\n",
       "    'coherence': 5,\n",
       "    'compatible': None}},\n",
       "  'worker': 'iL7GfrbN2PeB3KInidqSxUdxYcTZmG',\n",
       "  'batch': 'tldraxis1',\n",
       "  'split': 'valid2'},\n",
       " 'truncated_cells': []}"
      ]
     },
     "execution_count": 101,
     "metadata": {},
     "output_type": "execute_result"
    }
   ],
   "source": [
    "# nb: tldr_dict['rows'][0]['row']['info']['id'] defines the post id (i.e. there are several summaries per post)\n",
    "tldr_dict['rows'][0]\n"
   ]
  },
  {
   "cell_type": "code",
   "execution_count": 84,
   "metadata": {},
   "outputs": [],
   "source": [
    "class PostSummary:\n",
    "    \n",
    "    # Parse contents from API response\n",
    "    def __init__(self, dict):\n",
    "        self.post_id = dict['row']['info']['id']\n",
    "        self.post_text = dict['row']['info']['post']\n",
    "        self.post_summary = dict['row']['summary']['text']\n",
    "        self.policy = dict['row']['summary']['policy']\n",
    "\n",
    "    def __repr__(self):\n",
    "        return f\"Summary for {self.post_id} by {self.policy}\"\n",
    "\n",
    "    def to_dict(self):\n",
    "        return {k: v for k, v in self.__dict__.items()}\n",
    "\n",
    "\n",
    "# get_post_id = lambda dict: dict['row']['info']['id']\n",
    "# get_post_text = lambda dict: dict['row']['info']['post']\n",
    "# get_post_summary = lambda dict: dict['row']['summary']['text']\n"
   ]
  },
  {
   "cell_type": "code",
   "execution_count": 43,
   "metadata": {},
   "outputs": [
    {
     "data": {
      "text/plain": [
       "dict_items([('post_id', 't3_4l0bal'), ('post_text', \"Recently, my fiance  (20 m) and I (19f) moved into a new apartment with a mutual friend (20m) and somehow contracted scabies (don't know how). We've both been itchy af and have been to the doctor who confirmed that it was scabies for the both of us. Our room mate (20m) has not had symptoms of scabies bites appear yet but I have asked him to get treated as well and to treat his clothes and linen so that our apartment does not get reinfested after treatment.\\n\\nMy room mate refuses to buy the lotion needed to kill the mites on his skin (if there are any on him) and refuses to rewash and dry his linen and clothes. I'm scared that if he does not get treated the infestation of our apartment will not go away. I'm almost there to asking him to move out if he refuses treatment . He is not on the lease.\"), ('post_summary', \" Fiance and I recently got infected with scabies. Room mate refuses to get treated and our apartment will not go away. I'm afraid he will leave if he doesn't. Should I ask him to leave?\")])"
      ]
     },
     "execution_count": 43,
     "metadata": {},
     "output_type": "execute_result"
    }
   ],
   "source": [
    "p = PostSummary(tldr_dict['rows'][0])\n",
    "p.to_dict()"
   ]
  },
  {
   "cell_type": "code",
   "execution_count": 85,
   "metadata": {},
   "outputs": [],
   "source": [
    "# group summaries by post\n",
    "summaries = {}\n",
    "for p in tldr_dict['rows']:\n",
    "    s = PostSummary(p)\n",
    "\n",
    "    try:\n",
    "        summaries[s.post_id].append(s)\n",
    "    except KeyError:\n",
    "        summaries[s.post_id] = [s]\n",
    "        "
   ]
  },
  {
   "cell_type": "code",
   "execution_count": 100,
   "metadata": {},
   "outputs": [
    {
     "data": {
      "text/html": [
       "<div>\n",
       "<style scoped>\n",
       "    .dataframe tbody tr th:only-of-type {\n",
       "        vertical-align: middle;\n",
       "    }\n",
       "\n",
       "    .dataframe tbody tr th {\n",
       "        vertical-align: top;\n",
       "    }\n",
       "\n",
       "    .dataframe thead th {\n",
       "        text-align: right;\n",
       "    }\n",
       "</style>\n",
       "<table border=\"1\" class=\"dataframe\">\n",
       "  <thead>\n",
       "    <tr style=\"text-align: right;\">\n",
       "      <th></th>\n",
       "      <th>post_id</th>\n",
       "      <th>post_text</th>\n",
       "      <th>post_summary</th>\n",
       "      <th>policy</th>\n",
       "    </tr>\n",
       "  </thead>\n",
       "  <tbody>\n",
       "    <tr>\n",
       "      <th>0</th>\n",
       "      <td>t3_4l0bal</td>\n",
       "      <td>Recently, my fiance  (20 m) and I (19f) moved ...</td>\n",
       "      <td>Fiance and I recently got infected with scabi...</td>\n",
       "      <td>sup4_ppo_rm4_t.7</td>\n",
       "    </tr>\n",
       "    <tr>\n",
       "      <th>1</th>\n",
       "      <td>t3_4l0bal</td>\n",
       "      <td>Recently, my fiance  (20 m) and I (19f) moved ...</td>\n",
       "      <td>my fiance and I refuse to treat our room mate...</td>\n",
       "      <td>pretrain_6b_t.7</td>\n",
       "    </tr>\n",
       "    <tr>\n",
       "      <th>2</th>\n",
       "      <td>t3_4l0bal</td>\n",
       "      <td>Recently, my fiance  (20 m) and I (19f) moved ...</td>\n",
       "      <td>fiancé and I contracted scabies, roommate ref...</td>\n",
       "      <td>sup4_6b_ppo_rm4_6b_t.7</td>\n",
       "    </tr>\n",
       "    <tr>\n",
       "      <th>3</th>\n",
       "      <td>t3_4l0bal</td>\n",
       "      <td>Recently, my fiance  (20 m) and I (19f) moved ...</td>\n",
       "      <td>fiance and I are infected with scabies, room ...</td>\n",
       "      <td>sup4_6b_t0.7</td>\n",
       "    </tr>\n",
       "    <tr>\n",
       "      <th>4</th>\n",
       "      <td>t3_4l0bal</td>\n",
       "      <td>Recently, my fiance  (20 m) and I (19f) moved ...</td>\n",
       "      <td>Fiance and I contracted scabies, roommate ref...</td>\n",
       "      <td>sup4_12b_t0.7</td>\n",
       "    </tr>\n",
       "    <tr>\n",
       "      <th>5</th>\n",
       "      <td>t3_4l0bal</td>\n",
       "      <td>Recently, my fiance  (20 m) and I (19f) moved ...</td>\n",
       "      <td>infestation of scabies mites in apartment, ro...</td>\n",
       "      <td>ref</td>\n",
       "    </tr>\n",
       "  </tbody>\n",
       "</table>\n",
       "</div>"
      ],
      "text/plain": [
       "     post_id                                          post_text  \\\n",
       "0  t3_4l0bal  Recently, my fiance  (20 m) and I (19f) moved ...   \n",
       "1  t3_4l0bal  Recently, my fiance  (20 m) and I (19f) moved ...   \n",
       "2  t3_4l0bal  Recently, my fiance  (20 m) and I (19f) moved ...   \n",
       "3  t3_4l0bal  Recently, my fiance  (20 m) and I (19f) moved ...   \n",
       "4  t3_4l0bal  Recently, my fiance  (20 m) and I (19f) moved ...   \n",
       "5  t3_4l0bal  Recently, my fiance  (20 m) and I (19f) moved ...   \n",
       "\n",
       "                                        post_summary                  policy  \n",
       "0   Fiance and I recently got infected with scabi...        sup4_ppo_rm4_t.7  \n",
       "1   my fiance and I refuse to treat our room mate...         pretrain_6b_t.7  \n",
       "2   fiancé and I contracted scabies, roommate ref...  sup4_6b_ppo_rm4_6b_t.7  \n",
       "3   fiance and I are infected with scabies, room ...            sup4_6b_t0.7  \n",
       "4   Fiance and I contracted scabies, roommate ref...           sup4_12b_t0.7  \n",
       "5   infestation of scabies mites in apartment, ro...                     ref  "
      ]
     },
     "execution_count": 100,
     "metadata": {},
     "output_type": "execute_result"
    }
   ],
   "source": [
    "id_example = list(summaries.keys())[0]\n",
    "df = pd.DataFrame.from_dict([summary.to_dict() for summary in summaries[id_example]])\n",
    "\n",
    "df.to_csv(processed / 'summary_examples.csv')\n",
    "\n",
    "df\n"
   ]
  },
  {
   "cell_type": "markdown",
   "metadata": {},
   "source": []
  }
 ],
 "metadata": {
  "kernelspec": {
   "display_name": "maet-pln",
   "language": "python",
   "name": "python3"
  },
  "language_info": {
   "codemirror_mode": {
    "name": "ipython",
    "version": 3
   },
   "file_extension": ".py",
   "mimetype": "text/x-python",
   "name": "python",
   "nbconvert_exporter": "python",
   "pygments_lexer": "ipython3",
   "version": "3.12.1"
  }
 },
 "nbformat": 4,
 "nbformat_minor": 2
}
