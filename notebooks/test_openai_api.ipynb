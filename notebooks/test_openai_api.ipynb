{
 "cells": [
  {
   "cell_type": "code",
   "execution_count": 4,
   "metadata": {},
   "outputs": [],
   "source": [
    "from dotenv import dotenv_values\n",
    "from dotenv import load_dotenv\n",
    "import os\n",
    "\n",
    "from openai import OpenAI"
   ]
  },
  {
   "cell_type": "code",
   "execution_count": 8,
   "metadata": {},
   "outputs": [
    {
     "data": {
      "text/plain": [
       "True"
      ]
     },
     "execution_count": 8,
     "metadata": {},
     "output_type": "execute_result"
    }
   ],
   "source": [
    "\n",
    "# create a .env file in root and add OPENAI_API_KEY = \"your_api_key\" -> this will then be added to environment vars\n",
    "load_dotenv()\n"
   ]
  },
  {
   "cell_type": "code",
   "execution_count": 10,
   "metadata": {},
   "outputs": [],
   "source": [
    "client = OpenAI()"
   ]
  },
  {
   "cell_type": "code",
   "execution_count": 12,
   "metadata": {},
   "outputs": [],
   "source": [
    "completion = client.chat.completions.create(\n",
    "  model=\"gpt-3.5-turbo\",\n",
    "  messages=[\n",
    "    {\"role\": \"system\", \"content\": \"You are a poetic assistant, skilled in explaining complex programming concepts with creative flair.\"},\n",
    "    {\"role\": \"user\", \"content\": \"Compose a poem that explains the concept of recursion in programming.\"}\n",
    "  ]\n",
    ")"
   ]
  },
  {
   "cell_type": "code",
   "execution_count": 21,
   "metadata": {},
   "outputs": [
    {
     "data": {
      "text/plain": [
       "\"In the realm where code does never cease,\\nThere dwells a notion that will not appease.\\nRecursive whispers start to softly dance,\\nUnraveling the depths of programming's stance.\\n\\nA tale of loops upon loops, so profound,\\nWhere self-referential wonders astound.\\nFrom the depths of function, it takes a leap,\\nAnd echoes through each level, oh so deep.\\n\\nLike a mirror reflecting its own reflection,\\nRecursion wields its power without discretion.\\nA mystical spiral, forever it winds,\\nMaking repetition a thing to remind.\\n\\nWith faith it descends into unknown terrain,\\nMultiplying solutions, again and again.\\nLike Russian dolls that nest in unity,\\nRecursion, the secret to program's scrutiny.\\n\\nIn a world bound by computations grand,\\nThe beauty of recursion takes a stand.\\nDivide and conquer, it whispers with grace,\\nSolving problems at an astonishing pace.\\n\\nThe journey begins with a call so bold,\\nWithin the walls of a function it unfolds.\\nOne task is completed, yet more lie in wait,\\nUntil there are no more boxes to procreate.\\n\\nBut beware the mighty depths of recursion,\\nA careless error causes endless excursion.\\nInfinite loops like a labyrinthine spell,\\nWith no escape from their confounding hell.\\n\\nYet, once tamed, its power will mesmerize,\\nTransforming complexity to harmonize.\\nA symphony of calls, each one unique,\\nSolving problems with a method antique.\\n\\nSo, embrace the siren's song, take a chance,\\nAnd let recursion's rhythm make you dance.\\nFor in the realm where code does never cease,\\nThe magic of recursion brings us peace.\""
      ]
     },
     "execution_count": 21,
     "metadata": {},
     "output_type": "execute_result"
    }
   ],
   "source": [
    "completion.choices[0].message.content"
   ]
  },
  {
   "cell_type": "code",
   "execution_count": 24,
   "metadata": {},
   "outputs": [],
   "source": [
    "p1 = \"You are an expert summary rater. Given a piece of text and two of its possible summaries, output 1 or 2 to indicate which summary is better.\"\n",
    "p2 = \"\"\"Text - \"Recently, my fiance  (20 m) and I (19f) moved into a new apartment with a mutual friend (20m) and somehow contracted scabies (don't know how). We've both been itchy af and have been to the doctor who confirmed that it was scabies for the both of us. Our room mate (20m) has not had symptoms of scabies bites appear yet but I have asked him to get treated as well and to treat his clothes and linen so that our apartment does not get reinfested after treatment. My room mate refuses to buy the lotion needed to kill the mites on his skin (if there are any on him) and refuses to rewash and dry his linen and clothes. I'm scared that if he does not get treated the infestation of our apartment will not go away. I'm almost there to asking him to move out if he refuses treatment . He is not on the lease.\\nSummary 1 -  \"Fiance and I recently got infected with scabies. Room mate refuses to get treated and our apartment will not go away. I'm afraid he will leave if he doesn't. Should I ask him to leave?\"\\nSummary 2 -  \"my fiance and I refuse to treat our room mate's clothes and linens despite him refusing to buy the lotion and to treat his own clothes.\"\\nConsider the coherence, accuracy, coverage, and overall quality of each summary and explain which is better.\"\"\""
   ]
  },
  {
   "cell_type": "code",
   "execution_count": 26,
   "metadata": {},
   "outputs": [
    {
     "name": "stdout",
     "output_type": "stream",
     "text": [
      "Text - \"Recently, my fiance  (20 m) and I (19f) moved into a new apartment with a mutual friend (20m) and somehow contracted scabies (don't know how). We've both been itchy af and have been to the doctor who confirmed that it was scabies for the both of us. Our room mate (20m) has not had symptoms of scabies bites appear yet but I have asked him to get treated as well and to treat his clothes and linen so that our apartment does not get reinfested after treatment. My room mate refuses to buy the lotion needed to kill the mites on his skin (if there are any on him) and refuses to rewash and dry his linen and clothes. I'm scared that if he does not get treated the infestation of our apartment will not go away. I'm almost there to asking him to move out if he refuses treatment . He is not on the lease.\n",
      "Summary 1 -  \"Fiance and I recently got infected with scabies. Room mate refuses to get treated and our apartment will not go away. I'm afraid he will leave if he doesn't. Should I ask him to leave?\"\n",
      "Summary 2 -  \"my fiance and I refuse to treat our room mate's clothes and linens despite him refusing to buy the lotion and to treat his own clothes.\"\n",
      "Consider the coherence, accuracy, coverage, and overall quality of each summary and explain which is better.\n"
     ]
    }
   ],
   "source": [
    "print(p2)"
   ]
  },
  {
   "cell_type": "code",
   "execution_count": 27,
   "metadata": {},
   "outputs": [
    {
     "data": {
      "text/plain": [
       "\"Based on coherence, accuracy, coverage, and overall quality, Summary 1 is better. \\n\\nSummary 1 provides a clear and concise summary of the main issue - the narrator and their fiancé have contracted scabies and the roommate is refusing treatment. It accurately captures the concern of the narrator about the infestation spreading in the apartment and the possibility of asking the roommate to move out. It covers the key points of the situation, including the roommate's refusal to get treated and the narrator's fear of the infestation not going away due to his actions. \\n\\nOn the other hand, Summary 2 is not as coherent and accurate. It incorrectly states that the narrator and their fiancé refuse to treat the roommate's clothes and linens, which is not mentioned in the original text. It also fails to mention important details such as the scabies diagnosis and the fear of the infestation spreading in the apartment. Overall, Summary 2 does not provide a clear and accurate summary of the original text, making Summary 1 the better choice.\""
      ]
     },
     "execution_count": 27,
     "metadata": {},
     "output_type": "execute_result"
    }
   ],
   "source": [
    "completion = client.chat.completions.create(\n",
    "  model=\"gpt-3.5-turbo\",\n",
    "  messages=[\n",
    "    {\"role\": \"system\", \"content\": p1},\n",
    "    {\"role\": \"user\", \"content\": p2}\n",
    "  ]\n",
    ")\n",
    "\n",
    "completion.choices[0].message.content"
   ]
  },
  {
   "cell_type": "code",
   "execution_count": 28,
   "metadata": {},
   "outputs": [
    {
     "name": "stdout",
     "output_type": "stream",
     "text": [
      "Based on coherence, accuracy, coverage, and overall quality, Summary 1 is better. \n",
      "\n",
      "Summary 1 provides a clear and concise summary of the main issue - the narrator and their fiancé have contracted scabies and the roommate is refusing treatment. It accurately captures the concern of the narrator about the infestation spreading in the apartment and the possibility of asking the roommate to move out. It covers the key points of the situation, including the roommate's refusal to get treated and the narrator's fear of the infestation not going away due to his actions. \n",
      "\n",
      "On the other hand, Summary 2 is not as coherent and accurate. It incorrectly states that the narrator and their fiancé refuse to treat the roommate's clothes and linens, which is not mentioned in the original text. It also fails to mention important details such as the scabies diagnosis and the fear of the infestation spreading in the apartment. Overall, Summary 2 does not provide a clear and accurate summary of the original text, making Summary 1 the better choice.\n"
     ]
    }
   ],
   "source": [
    "print(completion.choices[0].message.content)"
   ]
  },
  {
   "cell_type": "code",
   "execution_count": null,
   "metadata": {},
   "outputs": [],
   "source": []
  }
 ],
 "metadata": {
  "kernelspec": {
   "display_name": "maet-pln",
   "language": "python",
   "name": "python3"
  },
  "language_info": {
   "codemirror_mode": {
    "name": "ipython",
    "version": 3
   },
   "file_extension": ".py",
   "mimetype": "text/x-python",
   "name": "python",
   "nbconvert_exporter": "python",
   "pygments_lexer": "ipython3",
   "version": "3.12.1"
  }
 },
 "nbformat": 4,
 "nbformat_minor": 2
}
